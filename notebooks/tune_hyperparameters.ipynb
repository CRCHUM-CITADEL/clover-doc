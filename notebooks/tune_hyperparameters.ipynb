{
 "cells": [
  {
   "cell_type": "markdown",
   "id": "7747f7f6-ebed-4783-9071-1c981d12613d",
   "metadata": {},
   "source": [
    "# Synthetic Data Generation -- Find the best hyperparameters"
   ]
  },
  {
   "cell_type": "markdown",
   "id": "90a0d88f-37d5-4a0a-bbb8-9dc50530aa6a",
   "metadata": {},
   "source": [
    "Tune hyperparameters of synthetic data generation algorithms, based on the Wisconsin Breast Cancer Dataset (WBCD)"
   ]
  },
  {
   "cell_type": "code",
   "execution_count": 1,
   "id": "25188e79-9f89-426e-bf5c-b3cfc1717b10",
   "metadata": {},
   "outputs": [],
   "source": [
    "# Standard library\n",
    "import sys\n",
    "import time\n",
    "import warnings\n",
    "\n",
    "sys.path.append(\"..\")\n",
    "warnings.simplefilter(action=\"ignore\", category=FutureWarning)\n",
    "\n",
    "# 3rd party packages\n",
    "import pandas as pd\n",
    "from optuna import samplers\n",
    "from ray import tune\n",
    "\n",
    "# Local packages\n",
    "import config\n",
    "from generators.ctabgan_generator import CTABGANGenerator\n",
    "from generators.ctgan_generator import CTGANGenerator\n",
    "from generators.dataSynthesizer import DataSynthesizerGenerator\n",
    "from generators.mst_generator import MSTGenerator\n",
    "from generators.smote import SmoteGenerator\n",
    "from generators.synthpop_generator import SynthpopGenerator\n",
    "from generators.tabddpm_generator import TabDDPMGenerator\n",
    "from generators.tvae_generator import TVAEGenerator\n",
    "from optimization.discrete_pso_search import DiscreteParticleSwarmOptimizationSearch\n",
    "from optimization.objective_function import (\n",
    "    absolute_difference_hinge_loss,\n",
    "    distinguishability_hinge_loss,\n",
    ")\n",
    "from optimization.optuna_search import OptunaSearch\n",
    "from optimization.raytune_search import RayTuneSearch"
   ]
  },
  {
   "cell_type": "markdown",
   "id": "cc89a365-7f0c-4a6c-8702-cd700346b67d",
   "metadata": {},
   "source": [
    "## Load the real WBCD training dataset"
   ]
  },
  {
   "cell_type": "code",
   "execution_count": 2,
   "id": "e631db68-d0ad-4b91-bdff-17c52ee285ee",
   "metadata": {},
   "outputs": [
    {
     "data": {
      "text/plain": [
       "(359, 10)"
      ]
     },
     "execution_count": 2,
     "metadata": {},
     "output_type": "execute_result"
    }
   ],
   "source": [
    "df_real = pd.read_csv(\"../data/\" + config.WBCD_DATASET_TRAIN_FILEPATH.stem + \".csv\")\n",
    "df_real.shape"
   ]
  },
  {
   "cell_type": "markdown",
   "id": "77ad9232-091c-49d3-a5ae-7d03d99dd573",
   "metadata": {},
   "source": [
    "## Create the metadata dictionary"
   ]
  },
  {
   "cell_type": "markdown",
   "id": "2ac7edc6-43b5-4209-a547-63e5970ed0eb",
   "metadata": {},
   "source": [
    "### The continuous and categorical variables need to be specified, as well as the variable to predict for the future learning task (used by SMOTE)"
   ]
  },
  {
   "cell_type": "code",
   "execution_count": 3,
   "id": "ec0a15ce-38f1-4678-bef4-5ecd713b44c9",
   "metadata": {},
   "outputs": [],
   "source": [
    "metadata = {\n",
    "    \"continuous\": [\n",
    "        \"Clump_Thickness\",\n",
    "        \"Uniformity_of_Cell_Size\",\n",
    "        \"Uniformity_of_Cell_Shape\",\n",
    "        \"Marginal_Adhesion\",\n",
    "        \"Single_Epithelial_Cell_Size\",\n",
    "        \"Bland_Chromatin\",\n",
    "        \"Normal_Nucleoli\",\n",
    "        \"Mitoses\",\n",
    "        \"Bare_Nuclei\",\n",
    "    ],\n",
    "    \"categorical\": [\"Class\"],\n",
    "    \"variable_to_predict\": \"Class\",\n",
    "}"
   ]
  },
  {
   "cell_type": "markdown",
   "id": "9d18102c-71ac-43e1-a9b4-426b605a90ca",
   "metadata": {},
   "source": [
    "## Choose the objective function"
   ]
  },
  {
   "cell_type": "markdown",
   "id": "6df2d376-49ec-4d97-b786-31873c21a844",
   "metadata": {},
   "source": [
    "Two options: \n",
    "- Minimize the distinguishability metric (ability of a classifier to distinguish the real set from the synthetic one).\n",
    "- Minimize the absolute difference between prediction scores on the real validation set for a predictor trained on real train set versus synthetic train set."
   ]
  },
  {
   "cell_type": "code",
   "execution_count": 4,
   "id": "51180292-99c0-4013-9416-6042ef502498",
   "metadata": {},
   "outputs": [],
   "source": [
    "objective_function = (\n",
    "    \"distinguishability\"  # can be \"distinguishability\" or \"difference_prediction_score\"\n",
    ")"
   ]
  },
  {
   "cell_type": "code",
   "execution_count": 5,
   "id": "04869c6c-b18a-4d38-a544-1f45404dcd7b",
   "metadata": {},
   "outputs": [],
   "source": [
    "if objective_function == \"distinguishability\":\n",
    "    objective = distinguishability_hinge_loss"
   ]
  },
  {
   "cell_type": "code",
   "execution_count": 6,
   "id": "c7b916b3-d3b7-475d-b11b-64405a6ca366",
   "metadata": {},
   "outputs": [],
   "source": [
    "if objective_function == \"difference_prediction_score\":\n",
    "    objective = absolute_difference_hinge_loss"
   ]
  },
  {
   "cell_type": "markdown",
   "id": "29c89b66-745c-4451-9008-a627738e1653",
   "metadata": {},
   "source": [
    "## Choose the optimizer"
   ]
  },
  {
   "cell_type": "code",
   "execution_count": 7,
   "id": "262e3894-2645-45f9-a100-5e1656abea08",
   "metadata": {},
   "outputs": [],
   "source": [
    "optimizer = \"Optuna\"  # \"PSO\", \"Optuna\" or \"Ray Tune\""
   ]
  },
  {
   "cell_type": "markdown",
   "id": "24b69a02-d614-4be8-bbe2-bd3c03e911b1",
   "metadata": {},
   "source": [
    "### Discrete Particle Swarm Optimization (PSO) for variable order"
   ]
  },
  {
   "cell_type": "code",
   "execution_count": 8,
   "id": "13f6c92e-2f38-40f4-ba9c-7ebfe1a13422",
   "metadata": {},
   "outputs": [],
   "source": [
    "if optimizer == \"PSO\":\n",
    "    optim = DiscreteParticleSwarmOptimizationSearch(\n",
    "        df=df_real,\n",
    "        metadata=metadata,\n",
    "        hyperparams={\n",
    "            \"variables_order\": list(df_real.columns)\n",
    "        },  # the variable to optimize with the default sequence\n",
    "        generator=SynthpopGenerator,  # the generator\n",
    "        objective_function=objective,\n",
    "        cv_num_folds=0,  # the number of folds for cross-validation (0 or 1 to deactivate)\n",
    "        use_gpu=True,  # flag to use the gpu if there are available\n",
    "        direction=\"min\",  # the direction of optimization (\"min\" or \"max\")\n",
    "        num_iter=2,  # the number of iterations to repeat the search\n",
    "        population_size=2,  # the size of the swarm\n",
    "    )"
   ]
  },
  {
   "cell_type": "markdown",
   "id": "0e3d7eba-5e1a-4d59-b710-d39beedfc666",
   "metadata": {},
   "source": [
    "### Optuna"
   ]
  },
  {
   "cell_type": "markdown",
   "id": "d72b74b7-fbe2-4360-87a3-fe11eef3dcad",
   "metadata": {},
   "source": [
    "#### Configure the hyperparameters search space"
   ]
  },
  {
   "cell_type": "markdown",
   "id": "8334f792-3f23-4bb8-8ebb-d059b2ebd922",
   "metadata": {},
   "source": [
    "See Optuna for more details: https://optuna.readthedocs.io/en/stable/reference/generated/optuna.trial.Trial.html"
   ]
  },
  {
   "cell_type": "code",
   "execution_count": 9,
   "id": "97bb1261-d7ef-47dd-90f1-71ffd51fb9fb",
   "metadata": {},
   "outputs": [],
   "source": [
    "def params_to_explore_optuna(trial):\n",
    "    params = {\n",
    "        \"batch_size\": trial.suggest_categorical(\"batch_size\", [50, 100]),\n",
    "        \"epochs\": trial.suggest_categorical(\"epochs\", [10, 20]),\n",
    "    }\n",
    "    return params"
   ]
  },
  {
   "cell_type": "markdown",
   "id": "605eb06d-a660-40ec-abb3-fc40099bb3f7",
   "metadata": {},
   "source": [
    "#### Choose the sampler algorithm"
   ]
  },
  {
   "cell_type": "raw",
   "id": "17656d51-fece-45e3-974a-31f787199b0a",
   "metadata": {},
   "source": [
    "Can be random search, grid search, Bayesian search (TPESampler), etc. See https://optuna.readthedocs.io/en/stable/reference/samplers/index.html for more samplers."
   ]
  },
  {
   "cell_type": "code",
   "execution_count": 10,
   "id": "848472bc-c399-4885-83ca-c2622252b2dc",
   "metadata": {},
   "outputs": [],
   "source": [
    "sampler = samplers.RandomSampler()  # random search"
   ]
  },
  {
   "cell_type": "raw",
   "id": "6d536674-adc2-4b22-8765-c8f80a5e8327",
   "metadata": {},
   "source": [
    "sampler=samplers.GridSampler(\n",
    "   search_space={\"batch_size\": [50, 100], \"epochs\": [10, 20]}\n",
    ")  # grid search, specifying the search space (the trial.suggest won't be taken into account)\n",
    "\n",
    "sampler=samplers.TPESampler(n_startup_trials=10)  # a Bayesian search, with the number of random trials before the TPE sampler is used"
   ]
  },
  {
   "cell_type": "markdown",
   "id": "1f28ad98-2746-481d-980c-08c73f5356ac",
   "metadata": {},
   "source": [
    "#### Configure the search"
   ]
  },
  {
   "cell_type": "code",
   "execution_count": 11,
   "id": "bbae3c03-8d5b-44eb-83e0-077c74105567",
   "metadata": {},
   "outputs": [
    {
     "name": "stderr",
     "output_type": "stream",
     "text": [
      "[I 2023-08-10 18:30:32,753] A new study created in memory with name: no-name-cab0c499-09ce-4a09-a6a9-50d8eb8d2d3e\n"
     ]
    }
   ],
   "source": [
    "if optimizer == \"Optuna\":\n",
    "    optim = OptunaSearch(\n",
    "        df=df_real,\n",
    "        metadata=metadata,\n",
    "        hyperparams=params_to_explore_optuna,\n",
    "        generator=TVAEGenerator,  # the generator\n",
    "        objective_function=objective,\n",
    "        cv_num_folds=1,  # the number of folds for cross-validation (0 or 1 to deactivate)\n",
    "        use_gpu=True,  # flag to use the gpu if there are available\n",
    "        sampler=sampler,\n",
    "        # pruner  # the algorithm early stopping the unsuccessful trials. No pruning by default.\n",
    "        direction=\"minimize\",  # the direction of optimization (\"minimize\" or \"maximize\")\n",
    "        num_iter=2,  # the number of iterations to repeat the search\n",
    "        verbose=1,  # whether to print the INFO logs (1) or not (0)\n",
    "    )"
   ]
  },
  {
   "cell_type": "markdown",
   "id": "a9bc9fae-3471-40b7-bb32-95f5c76571a7",
   "metadata": {},
   "source": [
    "### Ray Tune with Optuna for parallelization"
   ]
  },
  {
   "cell_type": "markdown",
   "id": "1a173329-f6e9-40f4-8409-dd748e978fde",
   "metadata": {},
   "source": [
    "For a single run, slower than standalone Optuna. "
   ]
  },
  {
   "cell_type": "markdown",
   "id": "efcf72ab-052e-4e4e-ac5a-ee701bf92fc1",
   "metadata": {},
   "source": [
    "#### Configure the hyperparameters search space"
   ]
  },
  {
   "cell_type": "markdown",
   "id": "3e697986-99d6-4e8e-ac0c-e4e3de5ec537",
   "metadata": {},
   "source": [
    "See Ray Tune for more details: https://docs.ray.io/en/latest/tune/api/search_space.html"
   ]
  },
  {
   "cell_type": "code",
   "execution_count": 12,
   "id": "cd70b798-6b67-49ae-ad4f-b29b9373f5be",
   "metadata": {},
   "outputs": [],
   "source": [
    "params_to_explore_raytune = {\n",
    "    \"batch_size\": tune.choice([50, 100]),\n",
    "    \"epochs\": tune.choice([10, 20]),\n",
    "}"
   ]
  },
  {
   "cell_type": "markdown",
   "id": "6270eb19-9bdd-4749-a4a4-f55e9dff6da0",
   "metadata": {},
   "source": [
    "#### Configure the search"
   ]
  },
  {
   "cell_type": "code",
   "execution_count": 13,
   "id": "a9fcf83c-4d45-4d11-9d25-5b143a76cc22",
   "metadata": {},
   "outputs": [],
   "source": [
    "if optimizer == \"Ray Tune\":\n",
    "    optim = RayTuneSearch(\n",
    "        df=df_real,\n",
    "        metadata=metadata,\n",
    "        hyperparams=params_to_explore_raytune,\n",
    "        generator=TVAEGenerator,\n",
    "        objective_function=objective,\n",
    "        cv_num_folds=1,  # the number of folds for cross-validation (0 or 1 to deactivate)\n",
    "        use_gpu=True,  # flag to use the gpu if there are available\n",
    "        resources={\n",
    "            \"gpu\": 1\n",
    "        },  # a dictionary used to request GPU and CPU resources for each trial\n",
    "        sampler=sampler,  # same as Optuna\n",
    "        direction=\"min\",  # the direction of optimization (\"min\" or \"max\")\n",
    "        num_iter=3,  # the number of iterations to repeat the search\n",
    "        verbose=1,  # verbose: 0 (silent), 1 (default), 2 (verbose)\n",
    "    )"
   ]
  },
  {
   "cell_type": "markdown",
   "id": "d8a610b3-2233-4dde-bc89-70b85080a62b",
   "metadata": {},
   "source": [
    "## Fit the optimizer"
   ]
  },
  {
   "cell_type": "code",
   "execution_count": 14,
   "id": "44b05889-8d85-4a12-af28-4979801ee638",
   "metadata": {},
   "outputs": [
    {
     "name": "stderr",
     "output_type": "stream",
     "text": [
      "[I 2023-08-10 18:30:42,101] Trial 0 finished with value: 0.6039116649574554 and parameters: {'batch_size': 100, 'epochs': 20}. Best is trial 0 with value: 0.6039116649574554.\n",
      "[I 2023-08-10 18:30:48,913] Trial 1 finished with value: 0.5484475393481238 and parameters: {'batch_size': 50, 'epochs': 20}. Best is trial 1 with value: 0.5484475393481238.\n"
     ]
    },
    {
     "name": "stdout",
     "output_type": "stream",
     "text": [
      "Time taken: 16.13 seconds.\n"
     ]
    }
   ],
   "source": [
    "start = time.time()\n",
    "\n",
    "optim.fit()\n",
    "\n",
    "end = time.time() - start\n",
    "print(f\"Time taken: {end:.2f} seconds.\")"
   ]
  },
  {
   "cell_type": "markdown",
   "id": "0e8deab9-4ea8-4776-b231-e56888823a37",
   "metadata": {},
   "source": [
    "## Get the results"
   ]
  },
  {
   "cell_type": "code",
   "execution_count": 15,
   "id": "500bb9b3-2ce4-4832-89fd-634127d2a0e6",
   "metadata": {},
   "outputs": [
    {
     "name": "stdout",
     "output_type": "stream",
     "text": [
      "Best parameters:\n",
      "{'batch_size': 50, 'epochs': 20}\n",
      "\n",
      "Associated loss:\n",
      "0.5484475393481238\n"
     ]
    }
   ],
   "source": [
    "print(\"Best parameters:\")\n",
    "print(optim.best_params)\n",
    "print(\"\\nAssociated loss:\")\n",
    "print(optim.best_cost)"
   ]
  },
  {
   "cell_type": "code",
   "execution_count": null,
   "id": "64a01737-0335-4467-b0eb-a1a03e97fafb",
   "metadata": {},
   "outputs": [],
   "source": []
  }
 ],
 "metadata": {
  "kernelspec": {
   "display_name": "Python 3 (ipykernel)",
   "language": "python",
   "name": "python3"
  },
  "language_info": {
   "codemirror_mode": {
    "name": "ipython",
    "version": 3
   },
   "file_extension": ".py",
   "mimetype": "text/x-python",
   "name": "python",
   "nbconvert_exporter": "python",
   "pygments_lexer": "ipython3",
   "version": "3.10.11"
  }
 },
 "nbformat": 4,
 "nbformat_minor": 5
}
