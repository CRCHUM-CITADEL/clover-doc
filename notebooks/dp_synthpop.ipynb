{
 "cells": [
  {
   "cell_type": "markdown",
   "id": "fd23f053-5320-4cb0-9a09-f1844ac255fd",
   "metadata": {},
   "source": [
    "# Differentially Private Synthpop"
   ]
  },
  {
   "cell_type": "markdown",
   "id": "4b05d8ff-3119-4756-bb23-b8016ff90c2f",
   "metadata": {},
   "source": [
    "## Generate synthetic data with DP-Synthpop"
   ]
  },
  {
   "cell_type": "markdown",
   "id": "3fac1c61-2303-4005-a1f4-a871c4bb597e",
   "metadata": {},
   "source": [
    "Based on the tiny Adult Dataset provided by the library of **dpart**"
   ]
  },
  {
   "cell_type": "code",
   "execution_count": 1,
   "id": "ef35be4b-abcb-47d9-8008-9985d8fa6afc",
   "metadata": {},
   "outputs": [],
   "source": [
    "import sys\n",
    "\n",
    "sys.path.append(\"..\")\n",
    "\n",
    "import pickle\n",
    "import warnings\n",
    "from pathlib import Path\n",
    "\n",
    "import matplotlib.pyplot as plt\n",
    "import numpy as np\n",
    "import pandas as pd\n",
    "\n",
    "# Local packages\n",
    "from generators.dpsynthpop_generator import DPSynthpopGenerator\n",
    "from metrics.utility.application import Classification\n",
    "from metrics.utility.population import Distinguishability\n",
    "from metrics.utility.univariate import ContinuousConsistency"
   ]
  },
  {
   "cell_type": "markdown",
   "id": "a4f7a2b1-62a7-4790-ab63-3621cc2776c9",
   "metadata": {},
   "source": [
    "## Load the real data"
   ]
  },
  {
   "cell_type": "code",
   "execution_count": 2,
   "id": "d05965aa-8b5b-4081-957e-83b42e95b734",
   "metadata": {},
   "outputs": [
    {
     "data": {
      "text/plain": [
       "(32561, 6)"
      ]
     },
     "execution_count": 2,
     "metadata": {},
     "output_type": "execute_result"
    }
   ],
   "source": [
    "df_real = {}\n",
    "df_real[\"train\"] = pd.read_pickle(\"../data/tiny_adult.pkl.gz\")\n",
    "df_real[\"test\"] = pd.read_pickle(\"../data/tiny_adult_test.pkl.gz\")\n",
    "\n",
    "# Load bounds for each variable\n",
    "with Path(\"../data/tiny_adult_bounds.pkl\").open(\"rb\") as fr:\n",
    "    bounds = pickle.load(fr)\n",
    "\n",
    "df_real[\"train\"].shape"
   ]
  },
  {
   "cell_type": "code",
   "execution_count": 3,
   "id": "96adfe70-1aa5-4e77-940e-d6ad83b1edf4",
   "metadata": {},
   "outputs": [
    {
     "data": {
      "text/plain": [
       "Index(['age', 'education', 'marital_status', 'relationship', 'sex', 'income'], dtype='object')"
      ]
     },
     "execution_count": 3,
     "metadata": {},
     "output_type": "execute_result"
    }
   ],
   "source": [
    "df_real[\"train\"].columns"
   ]
  },
  {
   "cell_type": "code",
   "execution_count": 4,
   "id": "529a79c4-ed5f-4a52-9b18-f1d9c588987a",
   "metadata": {},
   "outputs": [],
   "source": [
    "metadata = {\n",
    "    \"continuous\": [\n",
    "        \"age\",\n",
    "    ],\n",
    "    \"categorical\": [\n",
    "        \"education\",\n",
    "        \"marital_status\",\n",
    "        \"relationship\",\n",
    "        \"sex\",\n",
    "        \"income\",\n",
    "    ],\n",
    "    \"variable_to_predict\": \"income\",\n",
    "}"
   ]
  },
  {
   "cell_type": "markdown",
   "id": "a6ed1b4b-b0bf-4a44-b6e4-f6fc2ac0748e",
   "metadata": {},
   "source": [
    "## Train the generator"
   ]
  },
  {
   "cell_type": "code",
   "execution_count": 5,
   "id": "3248175e-779e-4450-bfab-f409d7081fd9",
   "metadata": {},
   "outputs": [],
   "source": [
    "gen = DPSynthpopGenerator(\n",
    "    df=df_real[\"train\"],\n",
    "    metadata=metadata,\n",
    "    generator_filepath=None,\n",
    "    methods=None,\n",
    "    epsilon={\"dependency\": 500, \"methods\": 500},\n",
    "    slack=1.0,\n",
    "    bounds=bounds,\n",
    "    variables_order=None,\n",
    "    prediction_matrix=\"infer\",\n",
    "    n_parents=None,\n",
    ")"
   ]
  },
  {
   "cell_type": "code",
   "execution_count": 6,
   "id": "23b79a39-2c52-42b6-a2bc-0256a37bd7cf",
   "metadata": {},
   "outputs": [],
   "source": [
    "with warnings.catch_warnings():\n",
    "    warnings.simplefilter(\"ignore\")\n",
    "    gen.preprocess()\n",
    "    gen.fit(save_path=\"../results/generators\")  # the path should exist"
   ]
  },
  {
   "cell_type": "code",
   "execution_count": 7,
   "id": "31cb2c6d-5574-4a8b-b690-f98cfee119a9",
   "metadata": {},
   "outputs": [
    {
     "name": "stdout",
     "output_type": "stream",
     "text": [
      "Variable visit order:\n",
      "   marital_status has parents []\n",
      "   relationship has parents ['marital_status']\n",
      "   age has parents ['marital_status', 'relationship']\n",
      "   sex has parents ['marital_status', 'relationship', 'age']\n",
      "   education has parents ['marital_status', 'relationship', 'age', 'sex']\n",
      "   income has parents ['marital_status', 'relationship', 'age', 'sex', 'education']\n",
      "\n",
      "Privacy budget spent:\n",
      "(epsilon=1000.0000000000001, delta=1.0)\n"
     ]
    }
   ],
   "source": [
    "gen.display()"
   ]
  },
  {
   "cell_type": "markdown",
   "id": "6f2f19ea-45a8-4672-9090-043a7acb7f56",
   "metadata": {},
   "source": [
    "## Generate synthetic Data"
   ]
  },
  {
   "cell_type": "code",
   "execution_count": 8,
   "id": "ac14c309-96bd-492d-a0bc-13b456ec5a78",
   "metadata": {},
   "outputs": [],
   "source": [
    "df_synth = gen.sample(\n",
    "    save_path=\"../results/data\",  # the path should exist\n",
    "    num_samples=len(df_real[\"train\"]),\n",
    ")"
   ]
  },
  {
   "cell_type": "code",
   "execution_count": 9,
   "id": "958d15e9-5c03-4878-8b57-ee5ed00ea3be",
   "metadata": {},
   "outputs": [
    {
     "data": {
      "text/html": [
       "<div>\n",
       "<style scoped>\n",
       "    .dataframe tbody tr th:only-of-type {\n",
       "        vertical-align: middle;\n",
       "    }\n",
       "\n",
       "    .dataframe tbody tr th {\n",
       "        vertical-align: top;\n",
       "    }\n",
       "\n",
       "    .dataframe thead th {\n",
       "        text-align: right;\n",
       "    }\n",
       "</style>\n",
       "<table border=\"1\" class=\"dataframe\">\n",
       "  <thead>\n",
       "    <tr style=\"text-align: right;\">\n",
       "      <th></th>\n",
       "      <th>age</th>\n",
       "      <th>education</th>\n",
       "      <th>marital_status</th>\n",
       "      <th>relationship</th>\n",
       "      <th>sex</th>\n",
       "      <th>income</th>\n",
       "    </tr>\n",
       "  </thead>\n",
       "  <tbody>\n",
       "    <tr>\n",
       "      <th>0</th>\n",
       "      <td>38</td>\n",
       "      <td>HS-grad</td>\n",
       "      <td>Married-civ-spouse</td>\n",
       "      <td>Husband</td>\n",
       "      <td>Male</td>\n",
       "      <td>&lt;=50K</td>\n",
       "    </tr>\n",
       "    <tr>\n",
       "      <th>1</th>\n",
       "      <td>33</td>\n",
       "      <td>HS-grad</td>\n",
       "      <td>Married-civ-spouse</td>\n",
       "      <td>Husband</td>\n",
       "      <td>Female</td>\n",
       "      <td>&lt;=50K</td>\n",
       "    </tr>\n",
       "    <tr>\n",
       "      <th>2</th>\n",
       "      <td>20</td>\n",
       "      <td>7th-8th</td>\n",
       "      <td>Married-civ-spouse</td>\n",
       "      <td>Own-child</td>\n",
       "      <td>Male</td>\n",
       "      <td>&lt;=50K</td>\n",
       "    </tr>\n",
       "    <tr>\n",
       "      <th>3</th>\n",
       "      <td>52</td>\n",
       "      <td>Bachelors</td>\n",
       "      <td>Never-married</td>\n",
       "      <td>Own-child</td>\n",
       "      <td>Female</td>\n",
       "      <td>&gt;50K</td>\n",
       "    </tr>\n",
       "    <tr>\n",
       "      <th>4</th>\n",
       "      <td>69</td>\n",
       "      <td>Some-college</td>\n",
       "      <td>Separated</td>\n",
       "      <td>Not-in-family</td>\n",
       "      <td>Male</td>\n",
       "      <td>&gt;50K</td>\n",
       "    </tr>\n",
       "  </tbody>\n",
       "</table>\n",
       "</div>"
      ],
      "text/plain": [
       "   age     education      marital_status   relationship     sex income\n",
       "0   38       HS-grad  Married-civ-spouse        Husband    Male  <=50K\n",
       "1   33       HS-grad  Married-civ-spouse        Husband  Female  <=50K\n",
       "2   20       7th-8th  Married-civ-spouse      Own-child    Male  <=50K\n",
       "3   52     Bachelors       Never-married      Own-child  Female   >50K\n",
       "4   69  Some-college           Separated  Not-in-family    Male   >50K"
      ]
     },
     "execution_count": 9,
     "metadata": {},
     "output_type": "execute_result"
    }
   ],
   "source": [
    "df_synth.head()"
   ]
  },
  {
   "cell_type": "markdown",
   "id": "73803088-8e41-4aeb-a7ba-5d4e31e5d685",
   "metadata": {},
   "source": [
    "## Trade-off between privacy and utility"
   ]
  },
  {
   "cell_type": "code",
   "execution_count": 13,
   "id": "464f39e6-29fd-446c-95db-43caa487a049",
   "metadata": {},
   "outputs": [
    {
     "data": {
      "image/png": "[encoded data removed]",
      "text/plain": [
       "<Figure size 640x480 with 1 Axes>"
      ]
     },
     "metadata": {},
     "output_type": "display_data"
    }
   ],
   "source": [
    "epsilons = list(np.logspace(-2, 3, 10))\n",
    "epsilons.append(None)  # To also construct a non-private model for comparison\n",
    "metrics = []\n",
    "\n",
    "application = Classification(\n",
    "    random_state=0,\n",
    "    num_repeat=5,\n",
    "    num_kfolds=5,\n",
    "    num_optuna_trials=20,\n",
    "    use_gpu=True,\n",
    ")\n",
    "\n",
    "# distinguishability = Distinguishability(\n",
    "#     random_state=0,\n",
    "#     num_repeat=5,\n",
    "#     num_kfolds=5,\n",
    "#     num_optuna_trials=20,\n",
    "#     use_gpu=True,\n",
    "# )\n",
    "\n",
    "# continuousConsistency = ContinuousConsistency(random_state=0)\n",
    "\n",
    "\n",
    "for epsilon in epsilons:\n",
    "    with warnings.catch_warnings():\n",
    "        warnings.simplefilter(\"ignore\")\n",
    "        gen = DPSynthpopGenerator(\n",
    "            df=df_real[\"train\"],\n",
    "            metadata=metadata,\n",
    "            generator_filepath=None,\n",
    "            methods=None,\n",
    "            epsilon=epsilon,\n",
    "            slack=0,\n",
    "            bounds=bounds,\n",
    "            variables_order=None,\n",
    "            prediction_matrix=\"infer\",\n",
    "            n_parents=None,\n",
    "        )\n",
    "\n",
    "        gen.preprocess()\n",
    "        gen.fit(save_path=\"../results/generators\")\n",
    "\n",
    "        df_synth = {}\n",
    "        df_synth[\"train\"] = gen.sample(\n",
    "            save_path=\"../results/data\",\n",
    "            num_samples=len(df_real[\"train\"]),\n",
    "        )\n",
    "        df_synth[\"test\"] = gen.sample(\n",
    "            save_path=\"../results/data\",\n",
    "            num_samples=len(df_real[\"test\"]),\n",
    "        )\n",
    "\n",
    "        metric = application.compute(\n",
    "            df_real=df_real, df_synthetic=df_synth, metadata=metadata\n",
    "        )\n",
    "        metrics.append(metric[\"average\"][\"diff_real_synth\"])\n",
    "\n",
    "        # metric = distinguishability.compute(\n",
    "        #     df_real=df_real, df_synthetic=df_synth, metadata=metadata\n",
    "        # )\n",
    "        # metrics.append(metric[\"average\"][\"prediction_auc_rescaled\"])\n",
    "\n",
    "        # metric = continuousConsistency.compute(\n",
    "        #     df_real=df_real, df_synthetic=df_synth, metadata=metadata\n",
    "        # )\n",
    "        # metrics.append(metric[\"average\"][\"within_ratio\"])\n",
    "\n",
    "plt.semilogx(epsilons[:-1], metrics[:-1], marker=\"o\", label=\"Differentially private\")\n",
    "plt.plot(\n",
    "    epsilons[:-1],\n",
    "    np.ones_like(epsilons[:-1]) * metrics[-1],\n",
    "    dashes=[2, 2],\n",
    "    label=\"Non-private\",\n",
    ")\n",
    "plt.title(\"Differentially private synthpop\")\n",
    "plt.xlabel(\"epsilon\")\n",
    "plt.ylabel(\"auc difference real vs synth\")\n",
    "plt.ylim(0, 1)\n",
    "plt.xlim(epsilons[0], epsilons[-2])\n",
    "plt.legend()\n",
    "plt.show()"
   ]
  }
 ],
 "metadata": {
  "kernelspec": {
   "display_name": "Python 3 (ipykernel)",
   "language": "python",
   "name": "python3"
  },
  "language_info": {
   "codemirror_mode": {
    "name": "ipython",
    "version": 3
   },
   "file_extension": ".py",
   "mimetype": "text/x-python",
   "name": "python",
   "nbconvert_exporter": "python",
   "pygments_lexer": "ipython3",
   "version": "3.10.11"
  }
 },
 "nbformat": 4,
 "nbformat_minor": 5
}
